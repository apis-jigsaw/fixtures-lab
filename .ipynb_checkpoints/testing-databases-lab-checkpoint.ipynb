{
 "cells": [
  {
   "cell_type": "markdown",
   "metadata": {},
   "source": [
    "# Testing Databases Lab"
   ]
  },
  {
   "cell_type": "markdown",
   "metadata": {},
   "source": [
    "### Introduction"
   ]
  },
  {
   "cell_type": "markdown",
   "metadata": {},
   "source": [
    "In this lesson, we'll practice working with fixtures.  We'll see how we can use fixtures to both place our environment in the proper state, and then cleanup our environment when the test is complete."
   ]
  },
  {
   "cell_type": "markdown",
   "metadata": {},
   "source": [
    "### Beginning to Use Fixtures"
   ]
  },
  {
   "cell_type": "markdown",
   "metadata": {},
   "source": [
    "Let's start by opening the `test_a_mock_db` file.  For this part of the lab, instead of adding and deleting entries from the database, we'll begin by adding and deleting entries from the `employees` and `customers` lists as defined above.\n",
    "\n",
    "We can see that we currently have five tests in the file, yet if we run the tests we can see that the fixtures are not written yet.\n",
    "\n",
    "* employees fixture\n",
    "\n",
    "If we look at the first test, we can see that before the test is run, we should have a fixture called `employees_table` that adds the employee `bob` to the list of employees.\n",
    "\n",
    "* customers fixture\n",
    "\n",
    "Then, we'll build the customers fixture.  This fixture should add a customer to the list, and then after the corresponding test is run remove that customer."
   ]
  },
  {
   "cell_type": "markdown",
   "metadata": {},
   "source": [
    "### Fixtures with Databases"
   ]
  },
  {
   "cell_type": "markdown",
   "metadata": {},
   "source": [
    "After the tests in the `test_a_mock_db` are completed, move onto the `test_b_db` file.  This time we'll need to create a database called `ecommerce_test`, and connect to that database at the top of the file.  Then run the `create_customers.sql` file to create the customers table.\n",
    "\n",
    "Then we can begin to fill in our `customers_table` fixture.  The fixture adds a new customer before the test is run, and deletes all customers to the database after each test.\n",
    "\n",
    "* It's a good idea to not only clear the records at the end of the fixture, but also right at the top.  This way we make sure we are starting in a clean state.\n",
    "* It also makes sense to refactor our fixture by writing a `build_customer()` function and a `teardown_customers()` function.\n",
    "\n",
    "    * `build_customer('john', 'smith')`: inserts in a customer named john smith into the customers table\n",
    "    * `teardown_customers`: removes all customers from the customers table\n",
    "    \n",
    "Then use these two functions in the fixture."
   ]
  },
  {
   "cell_type": "markdown",
   "metadata": {},
   "source": [
    "### Summary"
   ]
  },
  {
   "cell_type": "markdown",
   "metadata": {},
   "source": [
    "In this lab we practiced writing fixtures.  As we saw, fixtures occur in the following structure:\n",
    "\n",
    "```python\n",
    "@pytest.fixture()\n",
    "def db_fixture():\n",
    "    # teardown\n",
    "    # setup\n",
    "    yield\n",
    "    # teardown\n",
    "```\n",
    "\n",
    "At the yield keyword, the corresponding test is then run and completed.\n",
    "\n",
    "We saw that, to refactor our fixture, we can write separate functions dedicated to both adding and records to the database, and then removing records from our database."
   ]
  }
 ],
 "metadata": {
  "kernelspec": {
   "display_name": "Python 3",
   "language": "python",
   "name": "python3"
  },
  "language_info": {
   "codemirror_mode": {
    "name": "ipython",
    "version": 3
   },
   "file_extension": ".py",
   "mimetype": "text/x-python",
   "name": "python",
   "nbconvert_exporter": "python",
   "pygments_lexer": "ipython3",
   "version": "3.8.3"
  }
 },
 "nbformat": 4,
 "nbformat_minor": 4
}
